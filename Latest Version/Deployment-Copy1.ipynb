{
 "cells": [
  {
   "cell_type": "markdown",
   "id": "3ff2cde3-a7ab-4b5d-8ae4-144c8b2de63f",
   "metadata": {},
   "source": [
    "# 1. Import Libraries and Dataset"
   ]
  },
  {
   "cell_type": "code",
   "execution_count": 1,
   "id": "5d570f95-7873-4ed1-a358-d933b7ab5ffb",
   "metadata": {},
   "outputs": [],
   "source": [
    "import pandas as pd\n",
    "import joblib\n",
    "import numpy as np\n",
    "from sklearn.metrics import classification_report, accuracy_score, confusion_matrix"
   ]
  },
  {
   "cell_type": "code",
   "execution_count": 2,
   "id": "fe0f33d0-0899-46f9-9c54-28b03c73ec19",
   "metadata": {},
   "outputs": [],
   "source": [
    "# Load raw participants data\n",
    "raw_data_path = \"Cleaned_Activity_Level_Dataset.xlsx\"  \n",
    "participants_data = pd.read_excel(raw_data_path)"
   ]
  },
  {
   "cell_type": "code",
   "execution_count": 3,
   "id": "cb66c1ef-5416-4de3-98ef-b465ae9b630d",
   "metadata": {},
   "outputs": [
    {
     "name": "stdout",
     "output_type": "stream",
     "text": [
      "<class 'pandas.core.frame.DataFrame'>\n",
      "RangeIndex: 41 entries, 0 to 40\n",
      "Data columns (total 27 columns):\n",
      " #   Column                                                                                                     Non-Null Count  Dtype  \n",
      "---  ------                                                                                                     --------------  -----  \n",
      " 0   ID                                                                                                         41 non-null     int64  \n",
      " 1   I have read and understood the purpose of this study                                                       41 non-null     object \n",
      " 2   I understand that my participation is voluntary, and I can withdraw at any time without any consequences.  41 non-null     object \n",
      " 3   I agree to participate in this study.                                                                      41 non-null     object \n",
      " 4   Participant ID                                                                                             41 non-null     object \n",
      " 5   Age                                                                                                        41 non-null     object \n",
      " 6   Gender                                                                                                     41 non-null     object \n",
      " 7   Height (in cm)                                                                                             41 non-null     float64\n",
      " 8   Weight (in kg)                                                                                             41 non-null     int64  \n",
      " 9   Do you use a fitness tracker or wearable device to track biometrics?                                       41 non-null     object \n",
      " 10  Average Resting Heart Rate (bpm) (Refer to the Information Sheet for measuring guidance)                   41 non-null     float64\n",
      " 11  Daily Average Step Count (Refer to the Information Sheet for measuring guidance)                           41 non-null     int64  \n",
      " 12  How often do you monitor your biometrics?                                                                  41 non-null     object \n",
      " 13  If you realized you received too much change, you would feel obligated to return it immediately            41 non-null     object \n",
      " 14  I find it difficult to stay calm when faced with minor inconveniences.                                     41 non-null     object \n",
      " 15  I feel comfortable starting conversations in a room full of unfamiliar people.                             41 non-null     object \n",
      " 16  I would try to remain open and respectful when discussing a topic I strongly disagree on with a friend.    41 non-null     object \n",
      " 17  I begin working on tasks with deadlines well in advance to avoid last-minute stress.                       41 non-null     object \n",
      " 18  I feel excited to try new restaurants or cuisines, even if they are unfamiliar to me.                      41 non-null     object \n",
      " 19  How often do you engage in physical exercise?                                                              41 non-null     object \n",
      " 20  What type of physical activities do you regularly engage in?                                               41 non-null     object \n",
      " 21  How would you describe your eating habits?                                                                 41 non-null     object \n",
      " 22  How many hours do you sleep on average per night?                                                          41 non-null     object \n",
      " 23  How often do you feel stressed or anxious?                                                                 41 non-null     object \n",
      " 24  How much time do you spend sitting daily (e.g., working, studying, watching TV)?                           41 non-null     object \n",
      " 25  Do you smoke or consume alcohol?                                                                           41 non-null     object \n",
      " 26  Would you be open to participating in future follow-up studies related to this research?                   41 non-null     object \n",
      "dtypes: float64(2), int64(3), object(22)\n",
      "memory usage: 8.8+ KB\n"
     ]
    }
   ],
   "source": [
    "participants_data.info()"
   ]
  },
  {
   "cell_type": "markdown",
   "id": "2c3701e3-5802-4514-be43-970568dd4e0b",
   "metadata": {},
   "source": [
    "# 2. Data Pre-Processing"
   ]
  },
  {
   "cell_type": "markdown",
   "id": "601f3223-ad88-4409-af48-e5548e8b0f46",
   "metadata": {},
   "source": [
    "## 2.1 Column Names Mapping"
   ]
  },
  {
   "cell_type": "code",
   "execution_count": 4,
   "id": "0d053673-5b29-42d8-9860-5e1952ca14b2",
   "metadata": {},
   "outputs": [],
   "source": [
    "# Renaming columns based on your mapping\n",
    "column_mapping = {\n",
    "    \"Average Resting Heart Rate (bpm) (Refer to the Information Sheet for measuring guidance)\": \"fitbit_resting_heart_rate\",\n",
    "    \"Daily Average Step Count (Refer to the Information Sheet for measuring guidance)\": \"fitbit_steps\",\n",
    "    \"Height (in cm)\": \"height_cm\",\n",
    "    \"Weight (in kg)\": \"weight_kg\",\n",
    "    \"If you realized you received too much change, you would feel obligated to return it immediately\": \"Honesty/Humility\",\n",
    "    \"I find it difficult to stay calm when faced with minor inconveniences.\": \"Negative Emotionality\",\n",
    "    \"I feel comfortable starting conversations in a room full of unfamiliar people.\": \"Extraversion\",\n",
    "    \"I would try to remain open and respectful when discussing a topic I strongly disagree on with a friend.\": \"Agreeableness\",\n",
    "    \"I begin working on tasks with deadlines well in advance to avoid last-minute stress.\": \"Conscientiousness\",\n",
    "    \"I feel excited to try new restaurants or cuisines, even if they are unfamiliar to me.\": \"Openness to Experiences\",\n",
    "}\n",
    "participants_data.rename(columns=column_mapping, inplace=True)"
   ]
  },
  {
   "cell_type": "code",
   "execution_count": 5,
   "id": "d71f593b-7c34-4e87-8c42-8b3e4837e9ba",
   "metadata": {},
   "outputs": [],
   "source": [
    "# Combine all required columns into a new dataframe\n",
    "final_columns = [\n",
    "    \"fitbit_resting_heart_rate\",\n",
    "    \"Honesty/Humility\",\n",
    "    \"Negative Emotionality\",\n",
    "    \"Extraversion\",\n",
    "    \"Agreeableness\",\n",
    "    \"Conscientiousness\",\n",
    "    \"Openness to Experiences\",\n",
    "    \"fitbit_steps\",\n",
    "    \"weight_kg\",\n",
    "    \"height_cm\"\n",
    "]\n",
    "final_dataframe = participants_data[final_columns].copy()"
   ]
  },
  {
   "cell_type": "code",
   "execution_count": 6,
   "id": "8ec9f520-74d0-4386-9762-c79b66b9d9bf",
   "metadata": {},
   "outputs": [
    {
     "name": "stdout",
     "output_type": "stream",
     "text": [
      "<class 'pandas.core.frame.DataFrame'>\n",
      "RangeIndex: 41 entries, 0 to 40\n",
      "Data columns (total 10 columns):\n",
      " #   Column                     Non-Null Count  Dtype  \n",
      "---  ------                     --------------  -----  \n",
      " 0   fitbit_resting_heart_rate  41 non-null     float64\n",
      " 1   Honesty/Humility           41 non-null     object \n",
      " 2   Negative Emotionality      41 non-null     object \n",
      " 3   Extraversion               41 non-null     object \n",
      " 4   Agreeableness              41 non-null     object \n",
      " 5   Conscientiousness          41 non-null     object \n",
      " 6   Openness to Experiences    41 non-null     object \n",
      " 7   fitbit_steps               41 non-null     int64  \n",
      " 8   weight_kg                  41 non-null     int64  \n",
      " 9   height_cm                  41 non-null     float64\n",
      "dtypes: float64(2), int64(2), object(6)\n",
      "memory usage: 3.3+ KB\n"
     ]
    }
   ],
   "source": [
    "final_dataframe.info()"
   ]
  },
  {
   "cell_type": "markdown",
   "id": "20be1396-04a8-4813-a83b-cdd2f2e2e2b8",
   "metadata": {},
   "source": [
    "## 2.2 Outliers Handling"
   ]
  },
  {
   "cell_type": "code",
   "execution_count": 7,
   "id": "2cda82d6-f7c8-48a4-8ce6-727605a344f9",
   "metadata": {},
   "outputs": [
    {
     "name": "stdout",
     "output_type": "stream",
     "text": [
      "Outliers in fitbit_resting_heart_rate:\n",
      "    fitbit_resting_heart_rate Honesty/Humility Negative Emotionality  \\\n",
      "14                      165.0            Agree               Neutral   \n",
      "15                        0.0          Neutral               Neutral   \n",
      "21                      130.0          Neutral     Strongly disagree   \n",
      "23                        0.0         Disagree               Neutral   \n",
      "38                       11.0            Agree                 Agree   \n",
      "\n",
      "   Extraversion      Agreeableness Conscientiousness Openness to Experiences  \\\n",
      "14     Disagree            Neutral          Disagree       Strongly disagree   \n",
      "15        Agree           Disagree          Disagree                 Neutral   \n",
      "21      Neutral  Strongly disagree             Agree                 Neutral   \n",
      "23        Agree            Neutral             Agree                   Agree   \n",
      "38        Agree              Agree             Agree                   Agree   \n",
      "\n",
      "    fitbit_steps  weight_kg  height_cm  \n",
      "14         10000         92      185.0  \n",
      "15             0         67      176.0  \n",
      "21           717         62      450.0  \n",
      "23          7000         59      160.0  \n",
      "38          1000         57      167.0  \n",
      "\n",
      "\n",
      "Outliers in fitbit_steps:\n",
      "No outliers detected.\n",
      "\n",
      "\n",
      "Outliers in weight_kg:\n",
      "No outliers detected.\n",
      "\n",
      "\n",
      "Outliers in height_cm:\n",
      "    fitbit_resting_heart_rate Honesty/Humility Negative Emotionality  \\\n",
      "4                        78.0            Agree                 Agree   \n",
      "8                        98.0          Neutral               Neutral   \n",
      "21                      130.0          Neutral     Strongly disagree   \n",
      "\n",
      "   Extraversion      Agreeableness Conscientiousness Openness to Experiences  \\\n",
      "4         Agree              Agree    Strongly agree                Disagree   \n",
      "8       Neutral            Neutral           Neutral                 Neutral   \n",
      "21      Neutral  Strongly disagree             Agree                 Neutral   \n",
      "\n",
      "    fitbit_steps  weight_kg  height_cm  \n",
      "4           5000         83       5.11  \n",
      "8           9000         71     123.00  \n",
      "21           717         62     450.00  \n",
      "\n",
      "\n"
     ]
    },
    {
     "data": {
      "image/png": "[encoded data removed]",
      "text/plain": [
       "<Figure size 432x288 with 1 Axes>"
      ]
     },
     "metadata": {
      "needs_background": "light"
     },
     "output_type": "display_data"
    },
    {
     "data": {
      "image/png": "[encoded data removed]",
      "text/plain": [
       "<Figure size 432x288 with 1 Axes>"
      ]
     },
     "metadata": {
      "needs_background": "light"
     },
     "output_type": "display_data"
    },
    {
     "data": {
      "image/png": "[encoded data removed]",
      "text/plain": [
       "<Figure size 432x288 with 1 Axes>"
      ]
     },
     "metadata": {
      "needs_background": "light"
     },
     "output_type": "display_data"
    },
    {
     "data": {
      "image/png": "[encoded data removed]",
      "text/plain": [
       "<Figure size 432x288 with 1 Axes>"
      ]
     },
     "metadata": {
      "needs_background": "light"
     },
     "output_type": "display_data"
    }
   ],
   "source": [
    "import matplotlib.pyplot as plt\n",
    "\n",
    "# Numeric columns in the final dataframe\n",
    "numeric_columns = [\"fitbit_resting_heart_rate\",\"fitbit_steps\",\"weight_kg\",\"height_cm\"]\n",
    "\n",
    "# Detect outliers using IQR\n",
    "def detect_outliers_iqr(data, column):\n",
    "    Q1 = data[column].quantile(0.25)\n",
    "    Q3 = data[column].quantile(0.75)\n",
    "    IQR = Q3 - Q1\n",
    "    lower_bound = Q1 - 1.5 * IQR\n",
    "    upper_bound = Q3 + 1.5 * IQR\n",
    "    outliers = data[(data[column] < lower_bound) | (data[column] > upper_bound)]\n",
    "    return outliers\n",
    "\n",
    "# Checking for outliers in each numeric column\n",
    "outliers_summary = {}\n",
    "for column in numeric_columns:\n",
    "    outliers = detect_outliers_iqr(final_dataframe, column)\n",
    "    outliers_summary[column] = outliers\n",
    "\n",
    "# Displaying outliers\n",
    "for column, outliers in outliers_summary.items():\n",
    "    print(f\"Outliers in {column}:\")\n",
    "    print(outliers if not outliers.empty else \"No outliers detected.\")\n",
    "    print(\"\\n\")\n",
    "\n",
    "# Visualizing outliers using box plots\n",
    "for column in numeric_columns:\n",
    "    plt.figure()\n",
    "    plt.boxplot(final_dataframe[column].dropna(), vert=False)\n",
    "    plt.title(f\"Box Plot of {column}\")\n",
    "    plt.xlabel(column)\n",
    "    plt.show()\n"
   ]
  },
  {
   "cell_type": "code",
   "execution_count": 8,
   "id": "68656a60-2b9d-4edf-b8d3-e334045b303d",
   "metadata": {},
   "outputs": [],
   "source": [
    "# Replace 0.0 in `fitbit_resting_heart_rate` with the column median\n",
    "median_heart_rate = final_dataframe[\"fitbit_resting_heart_rate\"].replace(0, np.nan).median()\n",
    "final_dataframe[\"fitbit_resting_heart_rate\"] = final_dataframe[\"fitbit_resting_heart_rate\"].replace(0, median_heart_rate)"
   ]
  },
  {
   "cell_type": "code",
   "execution_count": 9,
   "id": "a248161f-4549-481b-8864-2c83a797fd81",
   "metadata": {},
   "outputs": [],
   "source": [
    "# Correct extreme values in `height_cm`\n",
    "# Assuming `5.11` is in feet, convert to cm: (5 * 30.48) + (11 * 2.54)\n",
    "final_dataframe[\"height_cm\"] = final_dataframe[\"height_cm\"].replace(5.11, (5 * 30.48) + (11 * 2.54))\n",
    "\n",
    "# Replace outlier height values (e.g., 450.0 cm) with the median\n",
    "median_height = final_dataframe.loc[final_dataframe[\"height_cm\"] < 250, \"height_cm\"].median()  # Assume valid heights < 250 cm\n",
    "final_dataframe[\"height_cm\"] = final_dataframe[\"height_cm\"].apply(lambda x: median_height if x > 250 else x)"
   ]
  },
  {
   "cell_type": "markdown",
   "id": "8f6a591e-c6e3-4d83-ac96-19a1a66a7fc1",
   "metadata": {},
   "source": [
    "## 2.3 Feature Engineering (Calculating BMI)"
   ]
  },
  {
   "cell_type": "code",
   "execution_count": 10,
   "id": "04ad8d6d-f32c-45c2-bb92-82913d9a5751",
   "metadata": {},
   "outputs": [],
   "source": [
    "# Recalculate BMI after correcting heights\n",
    "final_dataframe[\"bmi\"] = final_dataframe[\"weight_kg\"] / (final_dataframe[\"height_cm\"] / 100) ** 2"
   ]
  },
  {
   "cell_type": "code",
   "execution_count": 11,
   "id": "dea1c636-0746-41db-bfde-5c82884ea040",
   "metadata": {},
   "outputs": [],
   "source": [
    "# Verify and remove rows with extreme BMI values if necessary\n",
    "final_dataframe = final_dataframe[final_dataframe[\"bmi\"] < 60]  # Removing unrealistically high BMI values"
   ]
  },
  {
   "cell_type": "markdown",
   "id": "37d9c518-9dfe-4f50-9e2c-f13eb56da0df",
   "metadata": {},
   "source": [
    "## 2.4 Handling Null/ Missing Values"
   ]
  },
  {
   "cell_type": "code",
   "execution_count": 12,
   "id": "9f2dff45-5d9b-43e8-8016-479f4a78c84f",
   "metadata": {},
   "outputs": [],
   "source": [
    "# Ensure you're working on a copy of the DataFrame\n",
    "final_dataframe = final_dataframe.copy()\n",
    "\n",
    "# Check for and replace negative or zero values in `fitbit_steps` using .loc\n",
    "final_dataframe.loc[:, \"fitbit_steps\"] = final_dataframe[\"fitbit_steps\"].apply(lambda x: np.nan if x <= 0 else x)\n",
    "\n",
    "# Calculate the median of `fitbit_steps` excluding NaN\n",
    "median_steps = final_dataframe[\"fitbit_steps\"].median()\n",
    "\n",
    "# Fill NaN values in `fitbit_steps` with the median\n",
    "final_dataframe.loc[:, \"fitbit_steps\"] = final_dataframe[\"fitbit_steps\"].fillna(median_steps)"
   ]
  },
  {
   "cell_type": "markdown",
   "id": "51afeebc-835a-45e8-80e4-96eebd31424b",
   "metadata": {},
   "source": [
    "## 2.5 Converting Float to Int"
   ]
  },
  {
   "cell_type": "code",
   "execution_count": 13,
   "id": "6144d210-99c5-497c-8daf-d1bd387b1ba2",
   "metadata": {},
   "outputs": [],
   "source": [
    "# Round the 'fitbit_resting_heart_rate' column to remove decimals\n",
    "final_dataframe[\"fitbit_resting_heart_rate\"] = final_dataframe[\"fitbit_resting_heart_rate\"].round(0).astype(int)"
   ]
  },
  {
   "cell_type": "code",
   "execution_count": 14,
   "id": "1e36e074-a0cd-4995-b043-8bc06f43b176",
   "metadata": {},
   "outputs": [],
   "source": [
    "# Round the 'fitbit_steps' column to remove decimals\n",
    "final_dataframe[\"fitbit_steps\"] = final_dataframe[\"fitbit_steps\"].round(0).astype(int)"
   ]
  },
  {
   "cell_type": "code",
   "execution_count": 15,
   "id": "39492bb8-850f-459e-be9e-2c6103ced59c",
   "metadata": {},
   "outputs": [],
   "source": [
    "# Round the 'weight_kg' column to remove decimals\n",
    "final_dataframe[\"weight_kg\"] = final_dataframe[\"weight_kg\"].round(0).astype(int)"
   ]
  },
  {
   "cell_type": "code",
   "execution_count": 16,
   "id": "af8c949e-b8a5-4876-9403-68d27d676501",
   "metadata": {},
   "outputs": [],
   "source": [
    "# Round the 'height_cm' column to remove decimals\n",
    "final_dataframe[\"height_cm\"] = final_dataframe[\"height_cm\"].round(0).astype(int)"
   ]
  },
  {
   "cell_type": "markdown",
   "id": "db51af56-0d2c-4503-b1a0-0d40cd503f40",
   "metadata": {},
   "source": [
    "## 2.6 Mapping Categorical Traits into Numerical Values"
   ]
  },
  {
   "cell_type": "code",
   "execution_count": 23,
   "id": "8a518b8c-cd21-4d08-9385-bb741490a5e3",
   "metadata": {},
   "outputs": [],
   "source": [
    "# Mapping dictionary\n",
    "mapping = {\n",
    "    'Strongly disagree': 1,\n",
    "    'Disagree': 2,\n",
    "    'Neutral': 3,\n",
    "    'Agree': 4,\n",
    "    'Strongly agree': 5\n",
    "}\n",
    "\n",
    "# Columns to normalize\n",
    "columns_to_normalize = [\n",
    "    'Honesty/Humility',\n",
    "    'Negative Emotionality',\n",
    "    'Extraversion',\n",
    "    'Agreeableness',\n",
    "    'Conscientiousness',\n",
    "    'Openness to Experiences'\n",
    "]\n",
    "\n",
    "# Normalize the columns\n",
    "for column in columns_to_normalize:\n",
    "    final_dataframe[column] = final_dataframe[column].map(mapping)"
   ]
  },
  {
   "cell_type": "code",
   "execution_count": 24,
   "id": "44d150c4-16fa-4eb7-b468-8d697998a8df",
   "metadata": {},
   "outputs": [
    {
     "data": {
      "text/html": [
       "<div>\n",
       "<style scoped>\n",
       "    .dataframe tbody tr th:only-of-type {\n",
       "        vertical-align: middle;\n",
       "    }\n",
       "\n",
       "    .dataframe tbody tr th {\n",
       "        vertical-align: top;\n",
       "    }\n",
       "\n",
       "    .dataframe thead th {\n",
       "        text-align: right;\n",
       "    }\n",
       "</style>\n",
       "<table border=\"1\" class=\"dataframe\">\n",
       "  <thead>\n",
       "    <tr style=\"text-align: right;\">\n",
       "      <th></th>\n",
       "      <th>fitbit_resting_heart_rate</th>\n",
       "      <th>Honesty/Humility</th>\n",
       "      <th>Negative Emotionality</th>\n",
       "      <th>Extraversion</th>\n",
       "      <th>Agreeableness</th>\n",
       "      <th>Conscientiousness</th>\n",
       "      <th>Openness to Experiences</th>\n",
       "      <th>fitbit_steps</th>\n",
       "      <th>weight_kg</th>\n",
       "      <th>height_cm</th>\n",
       "      <th>bmi</th>\n",
       "    </tr>\n",
       "  </thead>\n",
       "  <tbody>\n",
       "    <tr>\n",
       "      <th>0</th>\n",
       "      <td>64</td>\n",
       "      <td>4</td>\n",
       "      <td>3</td>\n",
       "      <td>3</td>\n",
       "      <td>4</td>\n",
       "      <td>3</td>\n",
       "      <td>3</td>\n",
       "      <td>12004</td>\n",
       "      <td>55</td>\n",
       "      <td>164</td>\n",
       "      <td>20.325015</td>\n",
       "    </tr>\n",
       "    <tr>\n",
       "      <th>1</th>\n",
       "      <td>67</td>\n",
       "      <td>3</td>\n",
       "      <td>3</td>\n",
       "      <td>3</td>\n",
       "      <td>3</td>\n",
       "      <td>4</td>\n",
       "      <td>4</td>\n",
       "      <td>9797</td>\n",
       "      <td>60</td>\n",
       "      <td>158</td>\n",
       "      <td>24.187453</td>\n",
       "    </tr>\n",
       "    <tr>\n",
       "      <th>2</th>\n",
       "      <td>70</td>\n",
       "      <td>5</td>\n",
       "      <td>2</td>\n",
       "      <td>4</td>\n",
       "      <td>3</td>\n",
       "      <td>4</td>\n",
       "      <td>4</td>\n",
       "      <td>8000</td>\n",
       "      <td>74</td>\n",
       "      <td>171</td>\n",
       "      <td>25.306932</td>\n",
       "    </tr>\n",
       "    <tr>\n",
       "      <th>3</th>\n",
       "      <td>72</td>\n",
       "      <td>2</td>\n",
       "      <td>3</td>\n",
       "      <td>3</td>\n",
       "      <td>3</td>\n",
       "      <td>4</td>\n",
       "      <td>4</td>\n",
       "      <td>8000</td>\n",
       "      <td>70</td>\n",
       "      <td>164</td>\n",
       "      <td>26.026175</td>\n",
       "    </tr>\n",
       "    <tr>\n",
       "      <th>4</th>\n",
       "      <td>78</td>\n",
       "      <td>4</td>\n",
       "      <td>4</td>\n",
       "      <td>4</td>\n",
       "      <td>4</td>\n",
       "      <td>5</td>\n",
       "      <td>2</td>\n",
       "      <td>5000</td>\n",
       "      <td>83</td>\n",
       "      <td>180</td>\n",
       "      <td>25.520781</td>\n",
       "    </tr>\n",
       "  </tbody>\n",
       "</table>\n",
       "</div>"
      ],
      "text/plain": [
       "   fitbit_resting_heart_rate  Honesty/Humility  Negative Emotionality  \\\n",
       "0                         64                 4                      3   \n",
       "1                         67                 3                      3   \n",
       "2                         70                 5                      2   \n",
       "3                         72                 2                      3   \n",
       "4                         78                 4                      4   \n",
       "\n",
       "   Extraversion  Agreeableness  Conscientiousness  Openness to Experiences  \\\n",
       "0             3              4                  3                        3   \n",
       "1             3              3                  4                        4   \n",
       "2             4              3                  4                        4   \n",
       "3             3              3                  4                        4   \n",
       "4             4              4                  5                        2   \n",
       "\n",
       "   fitbit_steps  weight_kg  height_cm        bmi  \n",
       "0         12004         55        164  20.325015  \n",
       "1          9797         60        158  24.187453  \n",
       "2          8000         74        171  25.306932  \n",
       "3          8000         70        164  26.026175  \n",
       "4          5000         83        180  25.520781  "
      ]
     },
     "execution_count": 24,
     "metadata": {},
     "output_type": "execute_result"
    }
   ],
   "source": [
    "final_dataframe.head()"
   ]
  },
  {
   "cell_type": "markdown",
   "id": "b5fa7c5c-e43b-4bf9-9ad0-a07d9de4f168",
   "metadata": {},
   "source": [
    "# 3. Deployment"
   ]
  },
  {
   "cell_type": "markdown",
   "id": "22f3ac1e-11a7-42cb-84af-d3e889064406",
   "metadata": {},
   "source": [
    "## 3.1 Defining Features"
   ]
  },
  {
   "cell_type": "code",
   "execution_count": 25,
   "id": "d05a2f6a-73a3-4d83-b75a-ea9c6651833d",
   "metadata": {},
   "outputs": [],
   "source": [
    "# Define the correct column order used during training\n",
    "correct_column_order = [\n",
    "    'fitbit_resting_heart_rate',\n",
    "    'bmi',\n",
    "    'Honesty/Humility',\n",
    "    'Negative Emotionality',\n",
    "    'Extraversion',\n",
    "    'Agreeableness',\n",
    "    'Conscientiousness',\n",
    "    'Openness to Experiences'\n",
    "]"
   ]
  },
  {
   "cell_type": "code",
   "execution_count": 27,
   "id": "897106f2-d573-48b2-a030-68d31e40343a",
   "metadata": {},
   "outputs": [],
   "source": [
    "# Reorder columns to match training\n",
    "X_test = final_dataframe[correct_column_order]"
   ]
  },
  {
   "cell_type": "markdown",
   "id": "75bac816-8f9d-4376-99d1-4bcab69ca64e",
   "metadata": {},
   "source": [
    "## 3.2 Loading Best Model"
   ]
  },
  {
   "cell_type": "code",
   "execution_count": 28,
   "id": "1b5f7ad6-e296-4b0b-bea2-6edb5eccf47a",
   "metadata": {},
   "outputs": [],
   "source": [
    "# Load the trained model\n",
    "model_file_path = 'stacking_clf_final.pkl'\n",
    "loaded_model = joblib.load(model_file_path)"
   ]
  },
  {
   "cell_type": "markdown",
   "id": "c87dbed2-7103-41a6-bb5f-46455cef8359",
   "metadata": {},
   "source": [
    "## 3.3 Make Predictions "
   ]
  },
  {
   "cell_type": "code",
   "execution_count": 29,
   "id": "ff5564ac-1f13-4317-8ee7-5ba608d8addc",
   "metadata": {},
   "outputs": [],
   "source": [
    "# Make predictions\n",
    "y_pred = loaded_model.predict(X_test)"
   ]
  },
  {
   "cell_type": "code",
   "execution_count": 30,
   "id": "dd351fdd-39ea-430a-8e21-b6adae3b5a73",
   "metadata": {},
   "outputs": [
    {
     "data": {
      "text/plain": [
       "array(['Active', 'Active', 'Sedentary', 'Moderately Active',\n",
       "       'Moderately Active', 'Active', 'Moderately Active',\n",
       "       'Moderately Active', 'Sedentary', 'Active', 'Active', 'Active',\n",
       "       'Moderately Active', 'Active', 'Moderately Active', 'Active',\n",
       "       'Moderately Active', 'Sedentary', 'Moderately Active', 'Active',\n",
       "       'Sedentary', 'Active', 'Moderately Active', 'Active',\n",
       "       'Moderately Active', 'Moderately Active', 'Active', 'Sedentary',\n",
       "       'Active', 'Moderately Active', 'Active', 'Moderately Active',\n",
       "       'Active', 'Active', 'Moderately Active', 'Sedentary',\n",
       "       'Moderately Active', 'Sedentary', 'Active', 'Active', 'Sedentary'],\n",
       "      dtype=object)"
      ]
     },
     "execution_count": 30,
     "metadata": {},
     "output_type": "execute_result"
    }
   ],
   "source": [
    "y_pred"
   ]
  },
  {
   "cell_type": "markdown",
   "id": "a7db565d-25f4-4056-8ddc-52e92e0cd8f2",
   "metadata": {},
   "source": [
    "# 4. Update Participants dataset with new columns ('bmi','activity_level')"
   ]
  },
  {
   "cell_type": "code",
   "execution_count": 31,
   "id": "b3762c44-91c2-4ffa-a035-8f77971dae2f",
   "metadata": {},
   "outputs": [],
   "source": [
    "# Add the y_pred as a new column in the dataframe\n",
    "participants_data['Activity_Level'] = y_pred"
   ]
  },
  {
   "cell_type": "code",
   "execution_count": 44,
   "id": "0163cb3e-cd9a-4c99-867c-abace71ecd1c",
   "metadata": {},
   "outputs": [],
   "source": [
    "participants_data['bmi'] = final_dataframe['bmi'].values"
   ]
  },
  {
   "cell_type": "code",
   "execution_count": 47,
   "id": "d306e2ce-4a99-4eb7-a57a-c84588256a68",
   "metadata": {},
   "outputs": [],
   "source": [
    "# Replace the fitbit_resting_heart_rate column with values from the final dataframe\n",
    "participants_data['fitbit_resting_heart_rate'] = final_dataframe['fitbit_resting_heart_rate'].values"
   ]
  },
  {
   "cell_type": "code",
   "execution_count": 48,
   "id": "b1b98086-cadf-489c-9bd2-cc316c0b1013",
   "metadata": {},
   "outputs": [
    {
     "name": "stdout",
     "output_type": "stream",
     "text": [
      "<class 'pandas.core.frame.DataFrame'>\n",
      "RangeIndex: 41 entries, 0 to 40\n",
      "Data columns (total 29 columns):\n",
      " #   Column                                                                                                     Non-Null Count  Dtype  \n",
      "---  ------                                                                                                     --------------  -----  \n",
      " 0   ID                                                                                                         41 non-null     int64  \n",
      " 1   I have read and understood the purpose of this study                                                       41 non-null     object \n",
      " 2   I understand that my participation is voluntary, and I can withdraw at any time without any consequences.  41 non-null     object \n",
      " 3   I agree to participate in this study.                                                                      41 non-null     object \n",
      " 4   Participant ID                                                                                             41 non-null     object \n",
      " 5   Age                                                                                                        41 non-null     object \n",
      " 6   Gender                                                                                                     41 non-null     object \n",
      " 7   height_cm                                                                                                  41 non-null     float64\n",
      " 8   weight_kg                                                                                                  41 non-null     int64  \n",
      " 9   Do you use a fitness tracker or wearable device to track biometrics?                                       41 non-null     object \n",
      " 10  fitbit_resting_heart_rate                                                                                  41 non-null     int32  \n",
      " 11  fitbit_steps                                                                                               41 non-null     int64  \n",
      " 12  How often do you monitor your biometrics?                                                                  41 non-null     object \n",
      " 13  Honesty/Humility                                                                                           41 non-null     object \n",
      " 14  Negative Emotionality                                                                                      41 non-null     object \n",
      " 15  Extraversion                                                                                               41 non-null     object \n",
      " 16  Agreeableness                                                                                              41 non-null     object \n",
      " 17  Conscientiousness                                                                                          41 non-null     object \n",
      " 18  Openness to Experiences                                                                                    41 non-null     object \n",
      " 19  How often do you engage in physical exercise?                                                              41 non-null     object \n",
      " 20  What type of physical activities do you regularly engage in?                                               41 non-null     object \n",
      " 21  How would you describe your eating habits?                                                                 41 non-null     object \n",
      " 22  How many hours do you sleep on average per night?                                                          41 non-null     object \n",
      " 23  How often do you feel stressed or anxious?                                                                 41 non-null     object \n",
      " 24  How much time do you spend sitting daily (e.g., working, studying, watching TV)?                           41 non-null     object \n",
      " 25  Do you smoke or consume alcohol?                                                                           41 non-null     object \n",
      " 26  Would you be open to participating in future follow-up studies related to this research?                   41 non-null     object \n",
      " 27  Activity_Level                                                                                             41 non-null     object \n",
      " 28  bmi                                                                                                        41 non-null     float64\n",
      "dtypes: float64(2), int32(1), int64(3), object(23)\n",
      "memory usage: 9.3+ KB\n"
     ]
    }
   ],
   "source": [
    "participants_data.info()"
   ]
  },
  {
   "cell_type": "code",
   "execution_count": 49,
   "id": "ed7083df-1f9b-4b42-9725-678ec0625d77",
   "metadata": {},
   "outputs": [],
   "source": [
    "participants_data.to_csv('Final_data_participants.csv', index=False)"
   ]
  },
  {
   "cell_type": "code",
   "execution_count": null,
   "id": "01f04dd2-7c06-45b2-b0b1-9c35f58e67bc",
   "metadata": {},
   "outputs": [],
   "source": []
  }
 ],
 "metadata": {
  "kernelspec": {
   "display_name": "Python 3 (ipykernel)",
   "language": "python",
   "name": "python3"
  },
  "language_info": {
   "codemirror_mode": {
    "name": "ipython",
    "version": 3
   },
   "file_extension": ".py",
   "mimetype": "text/x-python",
   "name": "python",
   "nbconvert_exporter": "python",
   "pygments_lexer": "ipython3",
   "version": "3.9.18"
  }
 },
 "nbformat": 4,
 "nbformat_minor": 5
}
